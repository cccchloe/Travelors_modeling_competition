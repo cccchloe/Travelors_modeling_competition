{
 "cells": [
  {
   "cell_type": "code",
   "execution_count": 330,
   "metadata": {},
   "outputs": [],
   "source": [
    "import numpy as np # linear algebra\n",
    "import pandas as pd # data processing, CSV file I/O (e.g. pd.read_csv)\n",
    "import seaborn as sns\n",
    "import matplotlib.pyplot as plt\n",
    "import random\n",
    "from datetime import datetime\n",
    "from datetime import date\n",
    "from datetime import time\n",
    "import math\n",
    "import statistics\n",
    "\n",
    "from sklearn.model_selection import train_test_split\n",
    "from sklearn.model_selection import StratifiedKFold\n",
    "from sklearn.model_selection import cross_val_score\n",
    "from sklearn.model_selection import GridSearchCV\n",
    "from sklearn.preprocessing import StandardScaler\n",
    "from sklearn.metrics import classification_report, confusion_matrix\n",
    "from xgboost import plot_importance\n",
    "from sklearn.neighbors import NearestNeighbors\n",
    "from sklearn.model_selection import KFold\n",
    "\n",
    "from sklearn.linear_model import Perceptron\n",
    "from sklearn.metrics import accuracy_score,roc_auc_score,auc,roc_curve\n",
    "from sklearn.svm import SVC\n",
    "from sklearn.linear_model import LogisticRegression\n",
    "import xgboost as xgb\n",
    "from sklearn.ensemble import (RandomForestClassifier, AdaBoostClassifier,\n",
    "                              GradientBoostingClassifier, ExtraTreesClassifier)\n",
    "\n",
    "from sklearn.ensemble import IsolationForest\n",
    "import lightgbm as lgb"
   ]
  },
  {
   "cell_type": "code",
   "execution_count": 331,
   "metadata": {},
   "outputs": [],
   "source": [
    "from sklearn import cross_validation"
   ]
  },
  {
   "cell_type": "markdown",
   "metadata": {},
   "source": [
    "# Data input"
   ]
  },
  {
   "cell_type": "code",
   "execution_count": 332,
   "metadata": {},
   "outputs": [],
   "source": [
    "train=pd.read_csv('uconn_comp_2018_train.csv')\n",
    "test=pd.read_csv('uconn_comp_2018_test.csv')"
   ]
  },
  {
   "cell_type": "code",
   "execution_count": 333,
   "metadata": {},
   "outputs": [
    {
     "name": "stdout",
     "output_type": "stream",
     "text": [
      "size： (30000, 25)\n"
     ]
    }
   ],
   "source": [
    "all_data = pd.concat((train, test)).reset_index(drop=True)\n",
    "print(\"size：\",all_data.shape)"
   ]
  },
  {
   "cell_type": "markdown",
   "metadata": {},
   "source": [
    "# Explore missing data"
   ]
  },
  {
   "cell_type": "code",
   "execution_count": 334,
   "metadata": {},
   "outputs": [
    {
     "name": "stdout",
     "output_type": "stream",
     "text": [
      "unique value of col:gender ['M', 'F']\n",
      "unique value of col:marital_status [0.0, 1.0, nan, nan, nan, nan, nan, nan, nan]\n",
      "unique value of col:high_education_ind [0, 1]\n",
      "unique value of col:address_change_ind [0, 1]\n",
      "unique value of col:living_status ['Rent', 'Own']\n",
      "unique value of col:claim_day_of_week ['Tuesday', 'Friday', 'Sunday', 'Monday', 'Thursday', 'Saturday', 'Wednesday']\n",
      "unique value of col:accident_site ['Local', 'Highway', 'Parking Lot']\n",
      "unique value of col:witness_present_ind [0.0, 1.0, nan, nan, nan, nan, nan, nan, nan, nan, nan, nan, nan, nan, nan, nan, nan, nan, nan, nan, nan, nan, nan, nan, nan, nan, nan, nan, nan, nan, nan, nan, nan, nan, nan, nan, nan, nan, nan, nan, nan, nan, nan, nan, nan, nan, nan, nan, nan, nan, nan, nan, nan, nan, nan, nan, nan, nan, nan, nan, nan, nan, nan, nan, nan, nan, nan, nan, nan, nan, nan, nan, nan, nan, nan, nan, nan, nan, nan, nan, nan, nan, nan, nan, nan, nan, nan, nan, nan, nan, nan, nan, nan, nan, nan, nan, nan, nan, nan, nan, nan, nan, nan, nan, nan, nan, nan, nan, nan, nan, nan, nan, nan, nan, nan, nan, nan, nan, nan, nan, nan, nan, nan, nan, nan, nan, nan, nan, nan, nan, nan, nan, nan, nan, nan, nan, nan, nan, nan, nan, nan, nan, nan, nan, nan, nan, nan, nan, nan, nan, nan, nan, nan, nan, nan, nan, nan, nan, nan, nan, nan, nan, nan, nan, nan, nan, nan, nan, nan, nan, nan, nan, nan, nan, nan, nan, nan, nan, nan, nan, nan, nan, nan, nan, nan, nan, nan, nan, nan, nan, nan, nan, nan, nan, nan, nan, nan, nan, nan, nan, nan, nan, nan, nan, nan, nan, nan, nan, nan, nan, nan, nan, nan, nan, nan, nan, nan, nan, nan, nan, nan, nan]\n",
      "unique value of col:channel ['Phone', 'Online', 'Broker']\n",
      "unique value of col:policy_report_filed_ind [0, 1]\n",
      "unique value of col:vehicle_category ['Compact', 'Medium', 'Large']\n",
      "unique value of col:vehicle_color ['blue', 'gray', 'silver', 'white', 'black', 'other', 'red']\n"
     ]
    }
   ],
   "source": [
    "col=['gender','marital_status','high_education_ind','address_change_ind',\n",
    "     'living_status','claim_day_of_week','accident_site','witness_present_ind',\n",
    "     'channel','policy_report_filed_ind','vehicle_category','vehicle_color'\n",
    "    ]\n",
    "for i in col:\n",
    "    l=list(set(all_data[i]))\n",
    "    print('unique value of col:%s'%i,l)"
   ]
  },
  {
   "cell_type": "code",
   "execution_count": 335,
   "metadata": {},
   "outputs": [],
   "source": [
    "# fill missing value case by case\n",
    "## fill marital_status with random choice \n",
    "all_data['m']=list(np.random.choice([0, 1], size=(len(all_data),), p=[1-np.mean(all_data['marital_status']), np.mean(all_data['marital_status'])]))\n",
    "all_data['marital_status'].fillna(all_data['m'],inplace=True)\n",
    "all_data.drop('m',axis=1,inplace=True)\n",
    "\n",
    "## fill witness_present_ind with random choice\n",
    "all_data['w']=list(np.random.choice([0,1],size=(len(all_data),),p=[1-np.mean(all_data['witness_present_ind']),np.mean(all_data['witness_present_ind'])]))\n",
    "all_data['witness_present_ind'].fillna(all_data['w'],inplace=True)\n",
    "all_data.drop('w',axis=1,inplace=True)\n",
    "\n",
    "## drop fraud==-1\n",
    "all_data.loc[all_data['fraud']==-1,'fraud'] = 1\n",
    "\n",
    "## fill claim_est_payout with mean\n",
    "all_data['claim_est_payout'].fillna(np.mean(all_data['claim_est_payout']),inplace=True)\n",
    "\n",
    "## fill age_of_vehicle with median since the distribution is left skewed\n",
    "all_data['age_of_vehicle'].fillna(statistics.median(all_data['age_of_vehicle']),inplace=True)"
   ]
  },
  {
   "cell_type": "markdown",
   "metadata": {},
   "source": [
    "# Convert outlier"
   ]
  },
  {
   "cell_type": "code",
   "execution_count": 336,
   "metadata": {},
   "outputs": [],
   "source": [
    "# convert outliers of age_of_drivers >=100\n",
    "all_data.loc[all_data['age_of_driver']>100,'age_of_driver']=statistics.median(all_data['age_of_driver'])\n",
    "\n",
    "# convert outliers of annual_income (<0)\n",
    "# all_data.loc[all_data['annual_income']<0,'annual_income']=0.01\n"
   ]
  },
  {
   "cell_type": "markdown",
   "metadata": {},
   "source": [
    "# Convert zipcode to geocoding info"
   ]
  },
  {
   "cell_type": "code",
   "execution_count": 337,
   "metadata": {},
   "outputs": [],
   "source": [
    "zip2loc = pd.read_csv(\"zip2loc.csv\")\n",
    "all_data = pd.merge(all_data, zip2loc[[\"Zipcode\", \"Lat\", \"Long\", \"State\",'City','EstimatedPopulation','TotalWages','TaxReturnsFiled']], left_on = 'zip_code', right_on = \"Zipcode\", how = 'left')\n",
    "all_data = all_data.drop([\"zip_code\"], axis = 1)\n",
    "all_data = all_data.rename(columns = {\"Lat\" : \"latitude\", \"Long\" : \"longitude\", \"State\" : \"state\"})\n",
    "all_data['state']=pd.Categorical(all_data['state']).codes\n",
    "all_data['City']=pd.Categorical(all_data['City']).codes\n",
    "\n",
    "# filling missing zipcode with random choice of 5 cluster center\n",
    "from sklearn.cluster import KMeans\n",
    "t=all_data[(all_data['fraud'].isnull().values==False)& (all_data['Zipcode'].isnull().values==False)][['latitude','longitude']]\n",
    "kmeans = KMeans(n_clusters=5, random_state=0).fit(t)\n",
    "center=kmeans.cluster_centers_\n",
    "\n",
    "mask=all_data['Zipcode'].isnull().values==True\n",
    "all_data.loc[mask,'latitude']=all_data['latitude'].apply(lambda row: random.sample(center[:,0].tolist(),1)[0])\n",
    "all_data.loc[mask,'longitude']=all_data['longitude'].apply(lambda row: random.sample(center[:,1].tolist(),1)[0])\n",
    "all_data['latitude']=all_data['latitude'].apply(pd.to_numeric, errors='coerce')\n",
    "all_data['longitude']=all_data['longitude'].apply(pd.to_numeric, errors='coerce')"
   ]
  },
  {
   "cell_type": "markdown",
   "metadata": {},
   "source": [
    "# feature engineering"
   ]
  },
  {
   "cell_type": "code",
   "execution_count": 338,
   "metadata": {},
   "outputs": [
    {
     "ename": "KeyError",
     "evalue": "'Cluster'",
     "output_type": "error",
     "traceback": [
      "\u001b[1;31m---------------------------------------------------------------------------\u001b[0m",
      "\u001b[1;31mKeyError\u001b[0m                                  Traceback (most recent call last)",
      "\u001b[1;32m~\\Anaconda3\\lib\\site-packages\\pandas\\core\\indexes\\base.py\u001b[0m in \u001b[0;36mget_loc\u001b[1;34m(self, key, method, tolerance)\u001b[0m\n\u001b[0;32m   2524\u001b[0m             \u001b[1;32mtry\u001b[0m\u001b[1;33m:\u001b[0m\u001b[1;33m\u001b[0m\u001b[0m\n\u001b[1;32m-> 2525\u001b[1;33m                 \u001b[1;32mreturn\u001b[0m \u001b[0mself\u001b[0m\u001b[1;33m.\u001b[0m\u001b[0m_engine\u001b[0m\u001b[1;33m.\u001b[0m\u001b[0mget_loc\u001b[0m\u001b[1;33m(\u001b[0m\u001b[0mkey\u001b[0m\u001b[1;33m)\u001b[0m\u001b[1;33m\u001b[0m\u001b[0m\n\u001b[0m\u001b[0;32m   2526\u001b[0m             \u001b[1;32mexcept\u001b[0m \u001b[0mKeyError\u001b[0m\u001b[1;33m:\u001b[0m\u001b[1;33m\u001b[0m\u001b[0m\n",
      "\u001b[1;32mpandas/_libs/index.pyx\u001b[0m in \u001b[0;36mpandas._libs.index.IndexEngine.get_loc\u001b[1;34m()\u001b[0m\n",
      "\u001b[1;32mpandas/_libs/index.pyx\u001b[0m in \u001b[0;36mpandas._libs.index.IndexEngine.get_loc\u001b[1;34m()\u001b[0m\n",
      "\u001b[1;32mpandas/_libs/hashtable_class_helper.pxi\u001b[0m in \u001b[0;36mpandas._libs.hashtable.PyObjectHashTable.get_item\u001b[1;34m()\u001b[0m\n",
      "\u001b[1;32mpandas/_libs/hashtable_class_helper.pxi\u001b[0m in \u001b[0;36mpandas._libs.hashtable.PyObjectHashTable.get_item\u001b[1;34m()\u001b[0m\n",
      "\u001b[1;31mKeyError\u001b[0m: 'Cluster'",
      "\nDuring handling of the above exception, another exception occurred:\n",
      "\u001b[1;31mKeyError\u001b[0m                                  Traceback (most recent call last)",
      "\u001b[1;32m<ipython-input-338-3d379fad1600>\u001b[0m in \u001b[0;36m<module>\u001b[1;34m()\u001b[0m\n\u001b[0;32m      3\u001b[0m \u001b[0mkmeans\u001b[0m \u001b[1;33m=\u001b[0m \u001b[0mKMeans\u001b[0m\u001b[1;33m(\u001b[0m\u001b[0mn_clusters\u001b[0m\u001b[1;33m=\u001b[0m\u001b[1;36m5\u001b[0m\u001b[1;33m,\u001b[0m \u001b[0mrandom_state\u001b[0m\u001b[1;33m=\u001b[0m\u001b[1;36m0\u001b[0m\u001b[1;33m)\u001b[0m\u001b[1;33m.\u001b[0m\u001b[0mfit\u001b[0m\u001b[1;33m(\u001b[0m\u001b[0mt\u001b[0m\u001b[1;33m)\u001b[0m\u001b[1;33m\u001b[0m\u001b[0m\n\u001b[0;32m      4\u001b[0m \u001b[0mcenter\u001b[0m\u001b[1;33m=\u001b[0m\u001b[0mkmeans\u001b[0m\u001b[1;33m.\u001b[0m\u001b[0mcluster_centers_\u001b[0m\u001b[1;33m\u001b[0m\u001b[0m\n\u001b[1;32m----> 5\u001b[1;33m \u001b[0mmask\u001b[0m\u001b[1;33m=\u001b[0m\u001b[0mall_data\u001b[0m\u001b[1;33m[\u001b[0m\u001b[1;34m'Cluster'\u001b[0m\u001b[1;33m]\u001b[0m\u001b[1;33m.\u001b[0m\u001b[0misnull\u001b[0m\u001b[1;33m(\u001b[0m\u001b[1;33m)\u001b[0m\u001b[1;33m.\u001b[0m\u001b[0mvalues\u001b[0m\u001b[1;33m==\u001b[0m\u001b[1;32mTrue\u001b[0m\u001b[1;33m\u001b[0m\u001b[0m\n\u001b[0m\u001b[0;32m      6\u001b[0m \u001b[0mall_data\u001b[0m\u001b[1;33m.\u001b[0m\u001b[0mloc\u001b[0m\u001b[1;33m[\u001b[0m\u001b[0mmask\u001b[0m\u001b[1;33m,\u001b[0m\u001b[1;34m'Cluster'\u001b[0m\u001b[1;33m]\u001b[0m\u001b[1;33m=\u001b[0m\u001b[0mall_data\u001b[0m\u001b[1;33m[\u001b[0m\u001b[1;34m'Cluster'\u001b[0m\u001b[1;33m]\u001b[0m\u001b[1;33m.\u001b[0m\u001b[0mapply\u001b[0m\u001b[1;33m(\u001b[0m\u001b[1;32mlambda\u001b[0m \u001b[0mrow\u001b[0m\u001b[1;33m:\u001b[0m \u001b[0mrandom\u001b[0m\u001b[1;33m.\u001b[0m\u001b[0msample\u001b[0m\u001b[1;33m(\u001b[0m\u001b[0mcenter\u001b[0m\u001b[1;33m[\u001b[0m\u001b[1;33m:\u001b[0m\u001b[1;33m,\u001b[0m\u001b[1;36m0\u001b[0m\u001b[1;33m]\u001b[0m\u001b[1;33m.\u001b[0m\u001b[0mtolist\u001b[0m\u001b[1;33m(\u001b[0m\u001b[1;33m)\u001b[0m\u001b[1;33m,\u001b[0m\u001b[1;36m1\u001b[0m\u001b[1;33m)\u001b[0m\u001b[1;33m[\u001b[0m\u001b[1;36m0\u001b[0m\u001b[1;33m]\u001b[0m\u001b[1;33m)\u001b[0m\u001b[1;33m\u001b[0m\u001b[0m\n\u001b[0;32m      7\u001b[0m \u001b[0mall_data\u001b[0m\u001b[1;33m[\u001b[0m\u001b[1;34m'Cluster'\u001b[0m\u001b[1;33m]\u001b[0m\u001b[1;33m=\u001b[0m\u001b[0mall_data\u001b[0m\u001b[1;33m[\u001b[0m\u001b[1;34m'Cluster'\u001b[0m\u001b[1;33m]\u001b[0m\u001b[1;33m.\u001b[0m\u001b[0mapply\u001b[0m\u001b[1;33m(\u001b[0m\u001b[0mpd\u001b[0m\u001b[1;33m.\u001b[0m\u001b[0mto_numeric\u001b[0m\u001b[1;33m,\u001b[0m \u001b[0merrors\u001b[0m\u001b[1;33m=\u001b[0m\u001b[1;34m'coerce'\u001b[0m\u001b[1;33m)\u001b[0m\u001b[1;33m\u001b[0m\u001b[0m\n",
      "\u001b[1;32m~\\Anaconda3\\lib\\site-packages\\pandas\\core\\frame.py\u001b[0m in \u001b[0;36m__getitem__\u001b[1;34m(self, key)\u001b[0m\n\u001b[0;32m   2137\u001b[0m             \u001b[1;32mreturn\u001b[0m \u001b[0mself\u001b[0m\u001b[1;33m.\u001b[0m\u001b[0m_getitem_multilevel\u001b[0m\u001b[1;33m(\u001b[0m\u001b[0mkey\u001b[0m\u001b[1;33m)\u001b[0m\u001b[1;33m\u001b[0m\u001b[0m\n\u001b[0;32m   2138\u001b[0m         \u001b[1;32melse\u001b[0m\u001b[1;33m:\u001b[0m\u001b[1;33m\u001b[0m\u001b[0m\n\u001b[1;32m-> 2139\u001b[1;33m             \u001b[1;32mreturn\u001b[0m \u001b[0mself\u001b[0m\u001b[1;33m.\u001b[0m\u001b[0m_getitem_column\u001b[0m\u001b[1;33m(\u001b[0m\u001b[0mkey\u001b[0m\u001b[1;33m)\u001b[0m\u001b[1;33m\u001b[0m\u001b[0m\n\u001b[0m\u001b[0;32m   2140\u001b[0m \u001b[1;33m\u001b[0m\u001b[0m\n\u001b[0;32m   2141\u001b[0m     \u001b[1;32mdef\u001b[0m \u001b[0m_getitem_column\u001b[0m\u001b[1;33m(\u001b[0m\u001b[0mself\u001b[0m\u001b[1;33m,\u001b[0m \u001b[0mkey\u001b[0m\u001b[1;33m)\u001b[0m\u001b[1;33m:\u001b[0m\u001b[1;33m\u001b[0m\u001b[0m\n",
      "\u001b[1;32m~\\Anaconda3\\lib\\site-packages\\pandas\\core\\frame.py\u001b[0m in \u001b[0;36m_getitem_column\u001b[1;34m(self, key)\u001b[0m\n\u001b[0;32m   2144\u001b[0m         \u001b[1;31m# get column\u001b[0m\u001b[1;33m\u001b[0m\u001b[1;33m\u001b[0m\u001b[0m\n\u001b[0;32m   2145\u001b[0m         \u001b[1;32mif\u001b[0m \u001b[0mself\u001b[0m\u001b[1;33m.\u001b[0m\u001b[0mcolumns\u001b[0m\u001b[1;33m.\u001b[0m\u001b[0mis_unique\u001b[0m\u001b[1;33m:\u001b[0m\u001b[1;33m\u001b[0m\u001b[0m\n\u001b[1;32m-> 2146\u001b[1;33m             \u001b[1;32mreturn\u001b[0m \u001b[0mself\u001b[0m\u001b[1;33m.\u001b[0m\u001b[0m_get_item_cache\u001b[0m\u001b[1;33m(\u001b[0m\u001b[0mkey\u001b[0m\u001b[1;33m)\u001b[0m\u001b[1;33m\u001b[0m\u001b[0m\n\u001b[0m\u001b[0;32m   2147\u001b[0m \u001b[1;33m\u001b[0m\u001b[0m\n\u001b[0;32m   2148\u001b[0m         \u001b[1;31m# duplicate columns & possible reduce dimensionality\u001b[0m\u001b[1;33m\u001b[0m\u001b[1;33m\u001b[0m\u001b[0m\n",
      "\u001b[1;32m~\\Anaconda3\\lib\\site-packages\\pandas\\core\\generic.py\u001b[0m in \u001b[0;36m_get_item_cache\u001b[1;34m(self, item)\u001b[0m\n\u001b[0;32m   1840\u001b[0m         \u001b[0mres\u001b[0m \u001b[1;33m=\u001b[0m \u001b[0mcache\u001b[0m\u001b[1;33m.\u001b[0m\u001b[0mget\u001b[0m\u001b[1;33m(\u001b[0m\u001b[0mitem\u001b[0m\u001b[1;33m)\u001b[0m\u001b[1;33m\u001b[0m\u001b[0m\n\u001b[0;32m   1841\u001b[0m         \u001b[1;32mif\u001b[0m \u001b[0mres\u001b[0m \u001b[1;32mis\u001b[0m \u001b[1;32mNone\u001b[0m\u001b[1;33m:\u001b[0m\u001b[1;33m\u001b[0m\u001b[0m\n\u001b[1;32m-> 1842\u001b[1;33m             \u001b[0mvalues\u001b[0m \u001b[1;33m=\u001b[0m \u001b[0mself\u001b[0m\u001b[1;33m.\u001b[0m\u001b[0m_data\u001b[0m\u001b[1;33m.\u001b[0m\u001b[0mget\u001b[0m\u001b[1;33m(\u001b[0m\u001b[0mitem\u001b[0m\u001b[1;33m)\u001b[0m\u001b[1;33m\u001b[0m\u001b[0m\n\u001b[0m\u001b[0;32m   1843\u001b[0m             \u001b[0mres\u001b[0m \u001b[1;33m=\u001b[0m \u001b[0mself\u001b[0m\u001b[1;33m.\u001b[0m\u001b[0m_box_item_values\u001b[0m\u001b[1;33m(\u001b[0m\u001b[0mitem\u001b[0m\u001b[1;33m,\u001b[0m \u001b[0mvalues\u001b[0m\u001b[1;33m)\u001b[0m\u001b[1;33m\u001b[0m\u001b[0m\n\u001b[0;32m   1844\u001b[0m             \u001b[0mcache\u001b[0m\u001b[1;33m[\u001b[0m\u001b[0mitem\u001b[0m\u001b[1;33m]\u001b[0m \u001b[1;33m=\u001b[0m \u001b[0mres\u001b[0m\u001b[1;33m\u001b[0m\u001b[0m\n",
      "\u001b[1;32m~\\Anaconda3\\lib\\site-packages\\pandas\\core\\internals.py\u001b[0m in \u001b[0;36mget\u001b[1;34m(self, item, fastpath)\u001b[0m\n\u001b[0;32m   3841\u001b[0m \u001b[1;33m\u001b[0m\u001b[0m\n\u001b[0;32m   3842\u001b[0m             \u001b[1;32mif\u001b[0m \u001b[1;32mnot\u001b[0m \u001b[0misna\u001b[0m\u001b[1;33m(\u001b[0m\u001b[0mitem\u001b[0m\u001b[1;33m)\u001b[0m\u001b[1;33m:\u001b[0m\u001b[1;33m\u001b[0m\u001b[0m\n\u001b[1;32m-> 3843\u001b[1;33m                 \u001b[0mloc\u001b[0m \u001b[1;33m=\u001b[0m \u001b[0mself\u001b[0m\u001b[1;33m.\u001b[0m\u001b[0mitems\u001b[0m\u001b[1;33m.\u001b[0m\u001b[0mget_loc\u001b[0m\u001b[1;33m(\u001b[0m\u001b[0mitem\u001b[0m\u001b[1;33m)\u001b[0m\u001b[1;33m\u001b[0m\u001b[0m\n\u001b[0m\u001b[0;32m   3844\u001b[0m             \u001b[1;32melse\u001b[0m\u001b[1;33m:\u001b[0m\u001b[1;33m\u001b[0m\u001b[0m\n\u001b[0;32m   3845\u001b[0m                 \u001b[0mindexer\u001b[0m \u001b[1;33m=\u001b[0m \u001b[0mnp\u001b[0m\u001b[1;33m.\u001b[0m\u001b[0marange\u001b[0m\u001b[1;33m(\u001b[0m\u001b[0mlen\u001b[0m\u001b[1;33m(\u001b[0m\u001b[0mself\u001b[0m\u001b[1;33m.\u001b[0m\u001b[0mitems\u001b[0m\u001b[1;33m)\u001b[0m\u001b[1;33m)\u001b[0m\u001b[1;33m[\u001b[0m\u001b[0misna\u001b[0m\u001b[1;33m(\u001b[0m\u001b[0mself\u001b[0m\u001b[1;33m.\u001b[0m\u001b[0mitems\u001b[0m\u001b[1;33m)\u001b[0m\u001b[1;33m]\u001b[0m\u001b[1;33m\u001b[0m\u001b[0m\n",
      "\u001b[1;32m~\\Anaconda3\\lib\\site-packages\\pandas\\core\\indexes\\base.py\u001b[0m in \u001b[0;36mget_loc\u001b[1;34m(self, key, method, tolerance)\u001b[0m\n\u001b[0;32m   2525\u001b[0m                 \u001b[1;32mreturn\u001b[0m \u001b[0mself\u001b[0m\u001b[1;33m.\u001b[0m\u001b[0m_engine\u001b[0m\u001b[1;33m.\u001b[0m\u001b[0mget_loc\u001b[0m\u001b[1;33m(\u001b[0m\u001b[0mkey\u001b[0m\u001b[1;33m)\u001b[0m\u001b[1;33m\u001b[0m\u001b[0m\n\u001b[0;32m   2526\u001b[0m             \u001b[1;32mexcept\u001b[0m \u001b[0mKeyError\u001b[0m\u001b[1;33m:\u001b[0m\u001b[1;33m\u001b[0m\u001b[0m\n\u001b[1;32m-> 2527\u001b[1;33m                 \u001b[1;32mreturn\u001b[0m \u001b[0mself\u001b[0m\u001b[1;33m.\u001b[0m\u001b[0m_engine\u001b[0m\u001b[1;33m.\u001b[0m\u001b[0mget_loc\u001b[0m\u001b[1;33m(\u001b[0m\u001b[0mself\u001b[0m\u001b[1;33m.\u001b[0m\u001b[0m_maybe_cast_indexer\u001b[0m\u001b[1;33m(\u001b[0m\u001b[0mkey\u001b[0m\u001b[1;33m)\u001b[0m\u001b[1;33m)\u001b[0m\u001b[1;33m\u001b[0m\u001b[0m\n\u001b[0m\u001b[0;32m   2528\u001b[0m \u001b[1;33m\u001b[0m\u001b[0m\n\u001b[0;32m   2529\u001b[0m         \u001b[0mindexer\u001b[0m \u001b[1;33m=\u001b[0m \u001b[0mself\u001b[0m\u001b[1;33m.\u001b[0m\u001b[0mget_indexer\u001b[0m\u001b[1;33m(\u001b[0m\u001b[1;33m[\u001b[0m\u001b[0mkey\u001b[0m\u001b[1;33m]\u001b[0m\u001b[1;33m,\u001b[0m \u001b[0mmethod\u001b[0m\u001b[1;33m=\u001b[0m\u001b[0mmethod\u001b[0m\u001b[1;33m,\u001b[0m \u001b[0mtolerance\u001b[0m\u001b[1;33m=\u001b[0m\u001b[0mtolerance\u001b[0m\u001b[1;33m)\u001b[0m\u001b[1;33m\u001b[0m\u001b[0m\n",
      "\u001b[1;32mpandas/_libs/index.pyx\u001b[0m in \u001b[0;36mpandas._libs.index.IndexEngine.get_loc\u001b[1;34m()\u001b[0m\n",
      "\u001b[1;32mpandas/_libs/index.pyx\u001b[0m in \u001b[0;36mpandas._libs.index.IndexEngine.get_loc\u001b[1;34m()\u001b[0m\n",
      "\u001b[1;32mpandas/_libs/hashtable_class_helper.pxi\u001b[0m in \u001b[0;36mpandas._libs.hashtable.PyObjectHashTable.get_item\u001b[1;34m()\u001b[0m\n",
      "\u001b[1;32mpandas/_libs/hashtable_class_helper.pxi\u001b[0m in \u001b[0;36mpandas._libs.hashtable.PyObjectHashTable.get_item\u001b[1;34m()\u001b[0m\n",
      "\u001b[1;31mKeyError\u001b[0m: 'Cluster'"
     ]
    }
   ],
   "source": [
    "from sklearn.cluster import KMeans\n",
    "t=all_data[(all_data['fraud'].isnull().values==False)&(all_data['past_num_of_claims'].isnull().values==False)][['past_num_of_claims']]\n",
    "kmeans = KMeans(n_clusters=5, random_state=0).fit(t)\n",
    "center=kmeans.cluster_centers_\n",
    "mask=all_data['Cluster'].isnull().values==True\n",
    "all_data.loc[mask,'Cluster']=all_data['Cluster'].apply(lambda row: random.sample(center[:,0].tolist(),1)[0])\n",
    "all_data['Cluster']=all_data['Cluster'].apply(pd.to_numeric, errors='coerce')"
   ]
  },
  {
   "cell_type": "code",
   "execution_count": 339,
   "metadata": {},
   "outputs": [],
   "source": [
    "# change claim_date from date type to month, day, year\n",
    "all_data['claim_date']=pd.to_datetime(all_data['claim_date'])\n",
    "all_data['month']=all_data['claim_date'].dt.month\n",
    "all_data['day']=all_data['claim_date'].dt.day\n",
    "all_data['year']=all_data['claim_date'].dt.year\n",
    "\n",
    "# create age group\n",
    "all_data.loc[:,'age_group'] = all_data['age_of_driver'].apply(lambda x: math.floor(x/10))\n",
    "all_data['age_group'] = pd.Categorical(all_data['age_group']).codes\n",
    "\n",
    "#create gender marriage the value correspond to the prob of fraud\n",
    "m0 = (all_data['gender'] == 'M') & (all_data['marital_status'] == 0)\n",
    "m1 = (all_data['gender'] == 'M') & (all_data['marital_status'] == 1)\n",
    "f0 = (all_data['gender'] == 'F') & (all_data['marital_status'] == 0)\n",
    "f1 = (all_data['gender'] == 'F') & (all_data['marital_status'] == 1)\n",
    "all_data.loc[m0,'gender_marrige'] = 2\n",
    "all_data.loc[m1,'gender_marrige'] = 4\n",
    "all_data.loc[f0,'gender_marrige'] = 3\n",
    "all_data.loc[f1,'gender_marrige'] = 5\n",
    "group = all_data.groupby('gender_marrige')['fraud'].sum()/len(all_data)\n",
    "group2 = all_data.groupby('marital_status')['fraud'].sum()\n",
    "#all_data = all_data.drop(['gender','marital_status'], axis =1 )\n",
    "\n",
    "#safty_rating, if safty rating > 30, low prob of fraud\n",
    "all_data.loc[all_data['safty_rating']<30, 'safty_rating_new'] = 1\n",
    "all_data.loc[all_data['safty_rating']>=30, 'safty_rating_new'] = 0\n",
    "#all_data = all_data.drop('safty_rating', axis = 1)\n",
    "\n",
    "#not sure price/income\n",
    "all_data.loc[:,'price/income'] = all_data['vehicle_price']/all_data['annual_income']\n",
    "#all_data = all_data.drop(['vehicle_price','annual_income'],axis=1)\n",
    "\n",
    "#claim/income\n",
    "all_data.loc[:,'claim/weight'] = all_data['claim_est_payout']/all_data['vehicle_weight']\n",
    "#all_data = all_data.drop(['claim_est_payout','annual_income'],axis=1)\n",
    "all_data.loc[:,'edu*income'] = all_data['high_education_ind']*all_data['annual_income']\n",
    "all_data.loc[:,'claim/safty'] = all_data['claim_est_payout']*all_data['safty_rating']\n",
    "#all_data.loc[:,'price/address'] = all_data['vehicle_price']*all_data['address_change_ind']\n",
    "#claim*liab,\n",
    "#all_data.loc[:,'age*liab'] = all_data['age_of_vehicle']*all_data['liab_prct']\n",
    "all_data.loc[:,'claim/age'] =  all_data['past_num_of_claims']*all_data['age_of_driver']\n",
    "\n",
    "#age/age\n",
    "#all_data.loc[:,'age/age'] = all_data['age_of_vehicle']*all_data['age_of_driver']\n",
    "#claim*liab,\n",
    "#all_data.loc[:,'claim*liab'] = all_data['claim_est_payout']*all_data['liab_prct']\n",
    "#all_data = all_data.drop(['claim_est_payout','liab_prct'],axis=1)\n",
    "\n",
    "#claim/income/liab\n",
    "#all_data.loc[:,'claim/income/liab'] = all_data['claim_est_payout']/(all_data['annual_income']*all_data['liab_prct'])\n",
    "#all_data = all_data.drop(['claim_est_payout','liab_prct','annual_income'],axis=1)\n",
    "\n",
    "#lat*long\n",
    "all_data['lat*long']=all_data['latitude']*all_data['longitude']\n",
    "\n",
    "# change categorical data to numeric data\n",
    "categorical_features=['gender','living_status','claim_day_of_week','accident_site','gender_marrige','safty_rating_new',\n",
    "                      'channel','vehicle_category','vehicle_color','past_num_of_claims']\n",
    "for f in categorical_features:\n",
    "    all_data = pd.concat([all_data, pd.get_dummies(all_data[f], prefix = f)], axis=1)\n",
    "all_data = all_data.drop(categorical_features, axis = 1)"
   ]
  },
  {
   "cell_type": "code",
   "execution_count": 340,
   "metadata": {},
   "outputs": [],
   "source": [
    "train = all_data[all_data['fraud'].isnull().values==False]\n",
    "test = all_data[all_data['fraud'].isnull().values==True]\n",
    "\n",
    "# reset index\n",
    "train=train.reset_index()\n",
    "test=test.reset_index()\n",
    "\n",
    "train.to_csv('train_final.csv',index=False)\n",
    "test.to_csv('test_final.csv',index=False)"
   ]
  },
  {
   "cell_type": "markdown",
   "metadata": {},
   "source": [
    "## Modeling"
   ]
  },
  {
   "cell_type": "code",
   "execution_count": 341,
   "metadata": {},
   "outputs": [],
   "source": [
    "train=pd.read_csv('train_final.csv')\n",
    "test=pd.read_csv('test_final.csv')\n",
    "\n",
    "variable_names = list(train)\n",
    "do_not_use_for_training = ['index','claim_date',\n",
    "                         'claim_number',\n",
    "                         'fraud',\n",
    "                         'Zipcode',\n",
    "                         'state',\n",
    "                         'City',\n",
    "                         'EstimatedPopulation',\n",
    "                         'TotalWages',\n",
    "                         'TaxReturnsFiled',\n",
    "                          'claim/income/liab']\n",
    "\n",
    "feature_names = [f for f in variable_names if f not in do_not_use_for_training]\n",
    "\n",
    "X_train = train[feature_names]\n",
    "Y_train = train['fraud']\n",
    "sc = StandardScaler()\n",
    "sc.fit(X_train)\n",
    "X_train_std = sc.transform(X_train)\n",
    "\n",
    "X_test = test[feature_names]\n",
    "X_test_std=sc.transform(X_test)"
   ]
  },
  {
   "cell_type": "markdown",
   "metadata": {},
   "source": [
    "# xgboost"
   ]
  },
  {
   "cell_type": "code",
   "execution_count": 12,
   "metadata": {},
   "outputs": [
    {
     "name": "stdout",
     "output_type": "stream",
     "text": [
      "Best n_estimators: 100\n",
      "Best score: 0.6922050866534016\n"
     ]
    }
   ],
   "source": [
    "# choose best n_estimator\n",
    "param_test = {'n_estimators':range(100,600,50)}\n",
    "clf = GridSearchCV(estimator = xgb.XGBClassifier(min_child_weight=1,learning_rate =0.1,max_depth=8,gamma=0,subsample=0.8, colsample_bytree=0.8,\n",
    "                                                 scale_pos_weight=1,objective= 'binary:logistic',silent=1,booster='gbtree', nthread=4, seed=27),\n",
    "                   param_grid = param_test, scoring='roc_auc',n_jobs=4,iid=False, cv=5)\n",
    "\n",
    "best_xgb = clf.fit(X_train_std, Y_train)\n",
    "print('Best n_estimators:', best_xgb.best_estimator_.get_params()['n_estimators'])\n",
    "print('Best score:', best_xgb.best_score_)\n",
    "# Best n_estimators: 100\n",
    "# Best score: 0.6922050866534016"
   ]
  },
  {
   "cell_type": "code",
   "execution_count": 13,
   "metadata": {},
   "outputs": [
    {
     "name": "stdout",
     "output_type": "stream",
     "text": [
      "Best max_depth: 3\n",
      "Best score: 0.7220150055512138\n"
     ]
    }
   ],
   "source": [
    "# choose best max_depth\n",
    "param_test = {'max_depth':range(2,10,1)}\n",
    "clf = GridSearchCV(estimator = xgb.XGBClassifier(n_estimators=100,min_child_weight=1,learning_rate =0.1,gamma=0,subsample=0.8, colsample_bytree=0.8,\n",
    "                                                 objective= 'binary:logistic',silent=1,booster='gbtree', nthread=4, scale_pos_weight=1,seed=27),\n",
    "                   param_grid = param_test, scoring='roc_auc',n_jobs=4,iid=False, cv=5)\n",
    "\n",
    "best_xgb = clf.fit(X_train_std, Y_train)\n",
    "print('Best max_depth:', best_xgb.best_estimator_.get_params()['max_depth'])\n",
    "print('Best score:', best_xgb.best_score_)\n",
    "# Best max_depth: 3\n",
    "# Best score: 0.7220150055512138"
   ]
  },
  {
   "cell_type": "code",
   "execution_count": 14,
   "metadata": {},
   "outputs": [
    {
     "name": "stdout",
     "output_type": "stream",
     "text": [
      "Best min_child_weight: 1\n",
      "Best score: 0.7220150055512138\n"
     ]
    }
   ],
   "source": [
    "# choose best min_child_weight\n",
    "param_test = {'min_child_weight':range(0,6,1)}\n",
    "clf = GridSearchCV(estimator = xgb.XGBClassifier(n_estimators=100,min_child_weight=1,max_depth=3,learning_rate =0.1,gamma=0,subsample=0.8, colsample_bytree=0.8,\n",
    "                                                 objective= 'binary:logistic',silent=1,booster='gbtree', nthread=4, scale_pos_weight=1,seed=27),\n",
    "                   param_grid = param_test, scoring='roc_auc',n_jobs=4,iid=False, cv=5)\n",
    "\n",
    "best_xgb = clf.fit(X_train_std, Y_train)\n",
    "print('Best min_child_weight:', best_xgb.best_estimator_.get_params()['min_child_weight'])\n",
    "print('Best score:', best_xgb.best_score_)\n",
    "# Best min_child_weight: 1\n",
    "# Best score: 0.7220150055512138"
   ]
  },
  {
   "cell_type": "code",
   "execution_count": 23,
   "metadata": {},
   "outputs": [
    {
     "name": "stdout",
     "output_type": "stream",
     "text": [
      "Best subsample: 0.8\n",
      "Best colsample_bytree: 0.75\n",
      "Best score: 0.7229687900615012\n"
     ]
    }
   ],
   "source": [
    "# choose best subsample,colsample_bytree\n",
    "param_test = {'subsample':[i/100.0 for i in range(75,90,5)],\n",
    "             'colsample_bytree':[i/100.0 for i in range(75,90,5)]}\n",
    "clf = GridSearchCV(estimator = xgb.XGBClassifier(n_estimators=100,max_depth=3,min_child_weight=1,learning_rate =0.1,gamma=0,scale_pos_weight=1,\n",
    "                                                 objective= 'binary:logistic',silent=1,booster='gbtree', nthread=4, seed=27),\n",
    "                   param_grid = param_test, scoring='roc_auc',n_jobs=4,iid=False, cv=5)\n",
    "\n",
    "best_xgb = clf.fit(X_train_std, Y_train)\n",
    "print('Best subsample:', best_xgb.best_estimator_.get_params()['subsample'])\n",
    "print('Best colsample_bytree:', best_xgb.best_estimator_.get_params()['colsample_bytree'])\n",
    "print('Best score:', best_xgb.best_score_)\n",
    "# Best subsample: 0.8\n",
    "# Best colsample_bytree: 0.75\n",
    "# Best score: 0.7229687900615012"
   ]
  },
  {
   "cell_type": "code",
   "execution_count": 24,
   "metadata": {},
   "outputs": [
    {
     "name": "stdout",
     "output_type": "stream",
     "text": [
      "Best reg_alpha: 0.01\n",
      "Best score: 0.7237667879665539\n"
     ]
    }
   ],
   "source": [
    "# choose best reg_alpha\n",
    "param_test = {'reg_alpha':[0, 0.001, 0.005, 0.01, 0.05]}\n",
    "clf = GridSearchCV(estimator = xgb.XGBClassifier(n_estimators=100,max_depth=3,min_child_weight=1,learning_rate =0.1,gamma=0,scale_pos_weight=1,\n",
    "                                                 subsample=0.8,colsample_bytree=0.75,\n",
    "                                                 objective= 'binary:logistic',silent=1,booster='gbtree', nthread=4, seed=27),\n",
    "                   param_grid = param_test, scoring='roc_auc',n_jobs=4,iid=False, cv=5)\n",
    "\n",
    "best_xgb = clf.fit(X_train_std, Y_train)\n",
    "print('Best reg_alpha:', best_xgb.best_estimator_.get_params()['reg_alpha'])\n",
    "print('Best score:', best_xgb.best_score_)"
   ]
  },
  {
   "cell_type": "code",
   "execution_count": 25,
   "metadata": {},
   "outputs": [
    {
     "name": "stdout",
     "output_type": "stream",
     "text": [
      "Best learning_rate: 0.1\n",
      "Best score: 0.7237667879665539\n"
     ]
    }
   ],
   "source": [
    "# choose best learning_rate\n",
    "param_test = {'learning_rate':[0, 0.001, 0.01, 0.05,0.08,0.1,0.2]}\n",
    "clf = GridSearchCV(estimator = xgb.XGBClassifier(n_estimators=100,max_depth=3,min_child_weight=1,learning_rate =0.1,gamma=0,scale_pos_weight=1,\n",
    "                                                 subsample=0.8,colsample_bytree=0.75,reg_alpha=0.01,\n",
    "                                                 objective= 'binary:logistic',silent=1,booster='gbtree', nthread=4, seed=27),\n",
    "                   param_grid = param_test, scoring='roc_auc',n_jobs=4,iid=False, cv=5)\n",
    "\n",
    "best_xgb = clf.fit(X_train_std, Y_train)\n",
    "print('Best learning_rate:', best_xgb.best_estimator_.get_params()['learning_rate'])\n",
    "print('Best score:', best_xgb.best_score_)"
   ]
  },
  {
   "cell_type": "code",
   "execution_count": null,
   "metadata": {},
   "outputs": [],
   "source": [
    "# without standardization, we get higher score\n",
    "# Best max_depth: 3\n",
    "# Best score: 0.7244080195153353"
   ]
  },
  {
   "cell_type": "code",
   "execution_count": 283,
   "metadata": {},
   "outputs": [],
   "source": [
    "y_test_pred_xgb=model1.predict_proba(X_test_std)[:,1]\n",
    "result=pd.DataFrame()\n",
    "result['claim_number']=test['claim_number']\n",
    "result['fraud']=y_test_pred_xgb.tolist()\n",
    "result.to_csv('csv_to_submit.csv', index = False)"
   ]
  },
  {
   "cell_type": "code",
   "execution_count": 342,
   "metadata": {},
   "outputs": [
    {
     "name": "stdout",
     "output_type": "stream",
     "text": [
      "0.7115685054590113\n"
     ]
    },
    {
     "data": {
      "image/png": "[encoded data removed]",
      "text/plain": [
       "<matplotlib.figure.Figure at 0x2134776d2b0>"
      ]
     },
     "metadata": {},
     "output_type": "display_data"
    }
   ],
   "source": [
    "x_train,x_test,y_train,y_test = train_test_split(X_train, Y_train,test_size = 0.2,random_state=10)\n",
    "model1 = xgb.XGBClassifier(n_estimators=100,\n",
    "    learning_rate =0.1,\n",
    "    max_depth=3,\n",
    "    min_child_weight=1,\n",
    "    gamma=0,\n",
    "    subsample=0.8,\n",
    "    colsample_bytree=0.75,\n",
    "    objective= 'binary:logistic',\n",
    "    nthread=12,\n",
    "    scale_pos_weight=1,\n",
    "    reg_alpha=0.01,\n",
    "    seed=27)\n",
    "model1.fit(x_train,y_train)\n",
    "fpr,tpr,thresholds=roc_curve(y_test,model1.predict_proba(x_test)[:,1])\n",
    "print(auc(fpr,tpr))\n",
    "fig, ax = plt.subplots(figsize=(12,18))\n",
    "plot_importance(model1, max_num_features=100, height=0.8, ax=ax)\n",
    "plt.show()"
   ]
  },
  {
   "cell_type": "markdown",
   "metadata": {},
   "source": [
    "## Random Forest"
   ]
  },
  {
   "cell_type": "code",
   "execution_count": 47,
   "metadata": {},
   "outputs": [
    {
     "name": "stdout",
     "output_type": "stream",
     "text": [
      "Best estimator: 1100\n",
      "Best score: 0.7062094851616953\n"
     ]
    }
   ],
   "source": [
    "# choose best n_estimators\n",
    "param_test = {'n_estimators':[100,1000,1100]}\n",
    "clf = GridSearchCV(RandomForestClassifier(min_samples_split=100,min_samples_leaf=20,max_depth=8,max_features='sqrt' \n",
    "                                          ,random_state=10),param_test, scoring='roc_auc',n_jobs=4,iid=False, cv=5)\n",
    "\n",
    "best_rf = clf.fit(X_train_std, Y_train)\n",
    "print('Best estimator:', best_rf.best_estimator_.get_params()['n_estimators'])\n",
    "print('Best score:', best_rf.best_score_)\n",
    "# Best estimator: 1100\n",
    "# Best score: 0.7062094851616953"
   ]
  },
  {
   "cell_type": "code",
   "execution_count": 50,
   "metadata": {},
   "outputs": [
    {
     "name": "stdout",
     "output_type": "stream",
     "text": [
      "Best max_depth: 11\n",
      "Best min_samples_split: 70\n",
      "Best score: 0.7072273678413027\n"
     ]
    }
   ],
   "source": [
    "# choose best max_depth,min_samples_split\n",
    "param_test = {'max_depth':range(3,14,2),\n",
    "             'min_samples_split':range(50,201,20)}\n",
    "clf = GridSearchCV(RandomForestClassifier(n_estimators=100,min_samples_leaf=20,max_features='sqrt',random_state=10,oob_score=True,)\n",
    "                   ,param_test, scoring='roc_auc',n_jobs=4,iid=False, cv=5)\n",
    "\n",
    "best_rf = clf.fit(X_train_std, Y_train)\n",
    "print('Best max_depth:', best_rf.best_estimator_.get_params()['max_depth'])\n",
    "print('Best min_samples_split:', best_rf.best_estimator_.get_params()['min_samples_split'])\n",
    "print('Best score:', best_rf.best_score_)\n",
    "# Best max_depth: 11\n",
    "# Best min_samples_split: 70\n",
    "# Best score: 0.7072273678413027"
   ]
  },
  {
   "cell_type": "code",
   "execution_count": 51,
   "metadata": {},
   "outputs": [
    {
     "name": "stdout",
     "output_type": "stream",
     "text": [
      "Best min_samples_leaf: 20\n",
      "Best min_samples_split: 70\n",
      "Best score: 0.7072273678413027\n"
     ]
    }
   ],
   "source": [
    "# choose best max_depth,min_samples_split\n",
    "param_test = {'min_samples_split':range(60,100,10),\n",
    "             'min_samples_leaf':range(10,60,10)}\n",
    "clf = GridSearchCV(RandomForestClassifier(n_estimators=100,max_depth=11,\n",
    "                                          max_features='sqrt',random_state=10,oob_score=True)\n",
    "                                       ,param_test, scoring='roc_auc',n_jobs=4,iid=False, cv=5)\n",
    "\n",
    "best_rf = clf.fit(X_train_std, Y_train)\n",
    "print('Best min_samples_leaf:', best_rf.best_estimator_.get_params()['min_samples_leaf'])\n",
    "print('Best min_samples_split:', best_rf.best_estimator_.get_params()['min_samples_split'])\n",
    "print('Best score:', best_rf.best_score_)\n",
    "# Best min_samples_leaf: 20\n",
    "# Best min_samples_split: 70\n",
    "# Best score: 0.7072273678413027"
   ]
  },
  {
   "cell_type": "code",
   "execution_count": 140,
   "metadata": {},
   "outputs": [
    {
     "name": "stdout",
     "output_type": "stream",
     "text": [
      "0.9990928094822067\n"
     ]
    }
   ],
   "source": [
    "x_train,x_test,y_train,y_test = train_test_split(X_train_std, Y_train,test_size = 0.2,random_state = 10)\n",
    "model2 = RandomForestClassifier(n_estimators=100,\n",
    "    max_depth=11,\n",
    "    max_features='sqrt',\n",
    "    min_samples_split=70,\n",
    "    min_samples_leaf=20,\n",
    "    oob_score=True,\n",
    "    random_state=10)\n",
    "model2.fit(x_train,y_train)\n",
    "fpr,tpr,thresholds=roc_curve(y_test,model2.predict_proba(x_test)[:,1])\n",
    "print(auc(fpr,tpr))"
   ]
  },
  {
   "cell_type": "code",
   "execution_count": 61,
   "metadata": {},
   "outputs": [],
   "source": [
    "y_test_pred_rf=best_rf.predict_proba(X_test_std)[:,1]\n",
    "result=pd.DataFrame()\n",
    "result['claim_number']=test['claim_number']\n",
    "result['fraud']=y_test_pred_xgb.tolist()\n",
    "result.to_csv('csv_to_submit.csv', index = False)"
   ]
  },
  {
   "cell_type": "markdown",
   "metadata": {},
   "source": [
    "## GradientBoosting"
   ]
  },
  {
   "cell_type": "code",
   "execution_count": 65,
   "metadata": {},
   "outputs": [
    {
     "name": "stdout",
     "output_type": "stream",
     "text": [
      "Best n_estimators: 100\n",
      "Best score: 0.7076347077655666\n"
     ]
    }
   ],
   "source": [
    "# choose best n_estimators\n",
    "parameters = {\"n_estimators\":range(100,600,50)}\n",
    "\n",
    "clf= GridSearchCV(GradientBoostingClassifier(learning_rate=0.1,min_samples_split=300,\n",
    "                                            min_samples_leaf=20,max_depth=8,max_features='sqrt',subsample=0.8,random_state=10), \n",
    "                                      parameters, cv=5, n_jobs=4,scoring='roc_auc',iid=False)\n",
    "\n",
    "best_gbc=clf.fit(X_train_std,Y_train)\n",
    "print('Best n_estimators:', best_gbc.best_estimator_.get_params()['n_estimators'])\n",
    "print('Best score:', best_gbc.best_score_)\n",
    "# Best n_estimators: 100\n",
    "# Best score: 0.7076347077655666"
   ]
  },
  {
   "cell_type": "code",
   "execution_count": 70,
   "metadata": {},
   "outputs": [
    {
     "name": "stdout",
     "output_type": "stream",
     "text": [
      "Best min_samples_split: 300\n",
      "Best min_samples_leaf: 40\n",
      "Best score: 0.7234252783505767\n"
     ]
    }
   ],
   "source": [
    "# choose best min_samples_split, min_sample_leaf\n",
    "parameters = {'min_samples_split':range(100,600,100),\n",
    "             'min_samples_leaf':range(20,100,10)}\n",
    "\n",
    "clf= GridSearchCV(GradientBoostingClassifier(n_estimators=100,learning_rate=0.1,max_depth=3,\n",
    "                                            max_features='sqrt',subsample=0.8,random_state=10), \n",
    "                                      parameters, cv=5, n_jobs=4,scoring='roc_auc',iid=False)\n",
    "\n",
    "best_gbc=clf.fit(X_train_std,Y_train)\n",
    "print('Best min_samples_split:', best_gbc.best_estimator_.get_params()['min_samples_split'])\n",
    "print('Best min_samples_leaf:', best_gbc.best_estimator_.get_params()['min_samples_leaf'])\n",
    "print('Best score:', best_gbc.best_score_)\n",
    "# Best min_samples_split: 300\n",
    "# Best min_samples_leaf: 40\n",
    "# Best score: 0.7234252783505767"
   ]
  },
  {
   "cell_type": "code",
   "execution_count": 72,
   "metadata": {},
   "outputs": [
    {
     "name": "stdout",
     "output_type": "stream",
     "text": [
      "Best n_estimators: 100\n",
      "Best learning_ratef: 0.1\n",
      "Best score: 0.7234252783505767\n"
     ]
    }
   ],
   "source": [
    "# choose best learning_rate,n_estimators\n",
    "parameters = {'n_estimators':range(50,150,10),\n",
    "             'learning_rate':[0.01,0.05,0.08,0.1]}\n",
    "\n",
    "clf= GridSearchCV(GradientBoostingClassifier(max_depth=3,min_samples_split=300,min_samples_leaf=40,\n",
    "                                            max_features='sqrt',subsample=0.8,random_state=10), \n",
    "                                      parameters, cv=5, n_jobs=4,scoring='roc_auc',iid=False)\n",
    "\n",
    "best_gbc=clf.fit(X_train_std,Y_train)\n",
    "print('Best n_estimators:', best_gbc.best_estimator_.get_params()['n_estimators'])\n",
    "print('Best learning_ratef:', best_gbc.best_estimator_.get_params()['learning_rate'])\n",
    "print('Best score:', best_gbc.best_score_)"
   ]
  },
  {
   "cell_type": "code",
   "execution_count": 141,
   "metadata": {},
   "outputs": [
    {
     "name": "stdout",
     "output_type": "stream",
     "text": [
      "0.9997999989221499\n"
     ]
    }
   ],
   "source": [
    "x_train,x_test,y_train,y_test = train_test_split(X_train_std, Y_train,test_size = 0.2,random_state = 10)\n",
    "model3= GradientBoostingClassifier(n_estimators=100,\n",
    "                               learning_rate=0.1,\n",
    "                               max_depth=3,\n",
    "                               max_features='sqrt',\n",
    "                               min_samples_split=300,\n",
    "                               min_samples_leaf=40,\n",
    "                               subsample=0.8,\n",
    "                               random_state=10)\n",
    "model3.fit(x_train,y_train)\n",
    "fpr,tpr,thresholds=roc_curve(y_test,model3.predict_proba(x_test)[:,1])\n",
    "print(auc(fpr,tpr))"
   ]
  },
  {
   "cell_type": "code",
   "execution_count": 75,
   "metadata": {},
   "outputs": [],
   "source": [
    "y_test_pred_gb=best_gbc.predict_proba(X_test_std)[:,1]\n",
    "result=pd.DataFrame()\n",
    "result['claim_number']=test['claim_number']\n",
    "result['fraud']=y_test_pred_gb.tolist()\n",
    "result.to_csv('csv_to_submit.csv', index = False)"
   ]
  },
  {
   "cell_type": "markdown",
   "metadata": {},
   "source": [
    "## Lightgbm"
   ]
  },
  {
   "cell_type": "code",
   "execution_count": 94,
   "metadata": {},
   "outputs": [
    {
     "name": "stdout",
     "output_type": "stream",
     "text": [
      "Best num_leaves: 4\n",
      "Best score: 0.7239204077847388\n"
     ]
    }
   ],
   "source": [
    "# choose best num_leaves,max_depth\n",
    "param= {'num_leaves':range(2,20,1)}\n",
    "\n",
    "clf = GridSearchCV(lgb.LGBMClassifier(application='binary',objective='binary',metric='auc',\n",
    "                                     is_unbalance=True,boosting='gbdt',learning_rate=0.1,verbose=0\n",
    "                                     ),param, scoring='roc_auc',n_jobs=4,iid=False, cv=5)\n",
    "\n",
    "best_lgb = clf.fit(X_train, Y_train)\n",
    "print('Best num_leaves:', best_lgb.best_estimator_.get_params()['num_leaves'])\n",
    "print('Best score:', best_lgb.best_score_)\n",
    "# Best num_leaves: 4\n",
    "# Best score: 0.7239204077847388"
   ]
  },
  {
   "cell_type": "code",
   "execution_count": 95,
   "metadata": {},
   "outputs": [
    {
     "name": "stdout",
     "output_type": "stream",
     "text": [
      "Best max_bin: 180\n",
      "Best min_data_in_leaf: 90\n",
      "Best score: 0.7250507583753475\n"
     ]
    }
   ],
   "source": [
    "# choose best max_bin,min_data_in_leaf\n",
    "param= {'max_bin':range(100,200,10),\n",
    "       'min_data_in_leaf':range(50,100,10)}\n",
    "\n",
    "clf = GridSearchCV(lgb.LGBMClassifier(application='binary',objective='binary',metric='auc',\n",
    "                                     is_unbalance=True,boosting='gbdt',learning_rate=0.1,verbose=0,\n",
    "                                     num_leaves=4),param, scoring='roc_auc',n_jobs=4,iid=False, cv=5)\n",
    "\n",
    "best_lgb = clf.fit(X_train, Y_train)\n",
    "print('Best max_bin:', best_lgb.best_estimator_.get_params()['max_bin'])\n",
    "print('Best min_data_in_leaf:', best_lgb.best_estimator_.get_params()['min_data_in_leaf'])\n",
    "print('Best score:', best_lgb.best_score_)\n",
    "# Best max_bin: 180\n",
    "# Best min_data_in_leaf: 90\n",
    "# Best score: 0.7250507583753475"
   ]
  },
  {
   "cell_type": "code",
   "execution_count": 117,
   "metadata": {},
   "outputs": [
    {
     "name": "stdout",
     "output_type": "stream",
     "text": [
      "Best learning_rate: 0.175\n",
      "Best score: 0.725635960377527\n"
     ]
    }
   ],
   "source": [
    "# choose best learning_rate\n",
    "param= {'learning_rate':[0.001,0.01,0.05,0.1,0.15,0.175,0.2]}\n",
    "\n",
    "clf = GridSearchCV(lgb.LGBMClassifier(application='binary',objective='binary',metric='auc',\n",
    "                                     is_unbalance=True,boosting='gbdt',verbose=0,\n",
    "                                     num_leaves=3),param, scoring='roc_auc',n_jobs=4,iid=False, cv=5)\n",
    "\n",
    "best_lgb = clf.fit(X_train, Y_train)\n",
    "print('Best learning_rate:', best_lgb.best_estimator_.get_params()['learning_rate'])\n",
    "print('Best score:', best_lgb.best_score_)"
   ]
  },
  {
   "cell_type": "code",
   "execution_count": 143,
   "metadata": {},
   "outputs": [
    {
     "name": "stdout",
     "output_type": "stream",
     "text": [
      "0.9991993968829773\n"
     ]
    }
   ],
   "source": [
    "#### one try: high score in kaggle\n",
    "x_train,x_test,y_train,y_test = train_test_split(X_train_std, Y_train,test_size = 0.2,random_state = 10)\n",
    "model3 = lgb.LGBMClassifier(application='binary',objective='binary',metric='auc',is_unbalance=True,boosting='gbdt',\n",
    "                           num_leaves=3,learning_rate=0.175,verbose=0)\n",
    "model3.fit(x_train,y_train)\n",
    "fpr,tpr,thresholds=roc_curve(y_test,model3.predict_proba(x_test)[:,1])\n",
    "print(auc(fpr,tpr))"
   ]
  },
  {
   "cell_type": "code",
   "execution_count": 118,
   "metadata": {},
   "outputs": [],
   "source": [
    "y_test_pred_lgb=best_lgb.predict_proba(X_test)[:,1]\n",
    "result=pd.DataFrame()\n",
    "result['claim_number']=test['claim_number']\n",
    "result['fraud']=y_test_pred_lgb.tolist()\n",
    "result.to_csv('csv_to_submit.csv', index = False)"
   ]
  },
  {
   "cell_type": "markdown",
   "metadata": {},
   "source": [
    "## Ensemble tree based models"
   ]
  },
  {
   "cell_type": "code",
   "execution_count": 31,
   "metadata": {},
   "outputs": [],
   "source": [
    "y_test_pred=0.4*y_test_pred_xgb+0.4*y_test_pred_lgb+0.2*y_test_pred_gb\n",
    "result=pd.DataFrame()\n",
    "result['claim_number']=test['claim_number']\n",
    "result['fraud']=y_test_pred.tolist()\n",
    "result.to_csv('csv_to_submit.csv', index = False)\n",
    "# ensemble model score:0.75490"
   ]
  },
  {
   "cell_type": "code",
   "execution_count": 311,
   "metadata": {},
   "outputs": [],
   "source": [
    "class Ensemble(object):\n",
    "    def __init__(self, n_folds, stacker, base_models):\n",
    "        self.n_folds = n_folds\n",
    "        self.stacker = stacker\n",
    "        self.base_models = base_models # n base models at the first level\n",
    "\n",
    "        \n",
    "    def fit_predict(self, X, y, T, seed): # y_pred = ensemble.fit_predict(X=X_train, y=y_train, T=X_test)\n",
    "        X = np.array(X) # X_train\n",
    "        y = np.array(y) # y_train\n",
    "        T = np.array(T) # X_test\n",
    "\n",
    "        folds = list(cross_validation.KFold(len(y),n_folds=self.n_folds,shuffle=True,random_state=seed)) # generate index for kfolds\n",
    "\n",
    "        S_train = np.zeros((X.shape[0], len(self.base_models))) # create N_train_rows* n_models array\n",
    "        S_test = np.zeros((T.shape[0], len(self.base_models))) # create N_test_rows* n_models array\n",
    "\n",
    "        for i, clf in enumerate(self.base_models): # fit the i th base model\n",
    "\n",
    "            print('Fitting For Base Model #{0} / {1} ---'.format(i+1, len(self.base_models)))\n",
    "\n",
    "            S_test_i = np.zeros((T.shape[0], len(folds))) # create N_test_rows* n_folds array\n",
    "\n",
    "            for j, (train_idx, test_idx) in enumerate(folds): # use the i th base model to fit the j th fold\n",
    "\n",
    "                print('--- Fitting For Fold #{0} / {1} ---'.format(j+1, self.n_folds))\n",
    "\n",
    "                X_train = X[train_idx]\n",
    "                y_train = y[train_idx]\n",
    "                X_holdout = X[test_idx]\n",
    "\n",
    "                clf.fit(X_train, y_train) \n",
    "                y_pred = clf.predict_proba(X_holdout)[:,1] #get prediction from the j th fold\n",
    "                S_train[test_idx, i] = y_pred # put into S_train\n",
    "                S_test_i[:, j] = clf.predict_proba(T)[:,1] # put into S_test\n",
    "\n",
    "               # print('Elapsed: %s minutes ---' % round(((time.time() - start_time) / 60), 2))\n",
    "\n",
    "            S_test[:, i] = S_test_i.mean(1) \n",
    "\n",
    "           # print('Elapsed: %s minutes ---' % round(((time.time() - start_time) / 60), 2))\n",
    "\n",
    "       # print('--- Base Models Trained: %s minutes ---' % round(((time.time() - start_time) / 60), 2))\n",
    "        self.stacker.fit(S_train, y)\n",
    "        y_pred = self.stacker.predict(S_test)[:]\n",
    "        return y_pred\n",
    "    \n"
   ]
  },
  {
   "cell_type": "code",
   "execution_count": null,
   "metadata": {},
   "outputs": [],
   "source": [
    "    \n",
    "        param_grid = {\n",
    "             'n_estimators': [1000],\n",
    "             'learning_rate': [0.002],\n",
    "             'max_depth':[2],\n",
    "             'min_child_weight':[19],\n",
    "             'gamma':[0],\n",
    "             'subsample':[0.5],\n",
    "             'colsample_bytree':[0.5],\n",
    "             'reg_alpha':[0.003]\n",
    "             #'reg_lambda':[0.005]\n",
    "        }\n",
    "        grid = GridSearchCV(estimator=self.stacker, param_grid=param_grid, cv=10, verbose=200, scoring='roc_auc')\n",
    "        grid.fit(S_train, y)\n",
    "\n",
    "        #message = 'to determine local CV score of #28'\n",
    "\n",
    "        try:\n",
    "            print('Param grid:')\n",
    "            print(param_grid)\n",
    "            print('Best Params:')\n",
    "            print(grid.best_params_)\n",
    "            print('Best CV Score:')\n",
    "            print(-grid.best_score_)\n",
    "            print('Best estimator:')\n",
    "            print(grid.best_estimator_)\n",
    "            print(message)\n",
    "        except:\n",
    "            pass\n",
    "\n",
    "       # print('--- Stacker Trained: %s minutes ---' % round(((time.time() - start_time) / 60), 2))\n",
    "\n",
    "        y_pred = grid.predict_proba(S_test)[:,1]\n",
    "\n",
    "        return y_pred\n",
    "\n",
    "#print('--- Features Set: %s minutes ---' % round(((time.time() - start_time) / 60), 2))\n",
    "print('Number of Features: ', len(X_train.columns.tolist()))\n",
    "\n",
    "# Please input the tuned parameters for eahc model\n",
    "\n"
   ]
  },
  {
   "cell_type": "code",
   "execution_count": 312,
   "metadata": {},
   "outputs": [
    {
     "name": "stdout",
     "output_type": "stream",
     "text": [
      "Fitting For Base Model #1 / 4 ---\n",
      "--- Fitting For Fold #1 / 5 ---\n",
      "--- Fitting For Fold #2 / 5 ---\n",
      "--- Fitting For Fold #3 / 5 ---\n",
      "--- Fitting For Fold #4 / 5 ---\n",
      "--- Fitting For Fold #5 / 5 ---\n",
      "Fitting For Base Model #2 / 4 ---\n",
      "--- Fitting For Fold #1 / 5 ---\n",
      "--- Fitting For Fold #2 / 5 ---\n",
      "--- Fitting For Fold #3 / 5 ---\n",
      "--- Fitting For Fold #4 / 5 ---\n",
      "--- Fitting For Fold #5 / 5 ---\n",
      "Fitting For Base Model #3 / 4 ---\n",
      "--- Fitting For Fold #1 / 5 ---\n",
      "--- Fitting For Fold #2 / 5 ---\n",
      "--- Fitting For Fold #3 / 5 ---\n",
      "--- Fitting For Fold #4 / 5 ---\n",
      "--- Fitting For Fold #5 / 5 ---\n",
      "Fitting For Base Model #4 / 4 ---\n",
      "--- Fitting For Fold #1 / 5 ---\n",
      "--- Fitting For Fold #2 / 5 ---\n",
      "--- Fitting For Fold #3 / 5 ---\n",
      "--- Fitting For Fold #4 / 5 ---\n",
      "--- Fitting For Fold #5 / 5 ---\n"
     ]
    },
    {
     "name": "stderr",
     "output_type": "stream",
     "text": [
      "C:\\Users\\Ming\\Anaconda3\\lib\\site-packages\\sklearn\\preprocessing\\label.py:151: DeprecationWarning: The truth value of an empty array is ambiguous. Returning False, but in future this will result in an error. Use `array.size > 0` to check that an array is not empty.\n",
      "  if diff:\n"
     ]
    },
    {
     "name": "stdout",
     "output_type": "stream",
     "text": [
      "Fitting For Base Model #1 / 4 ---\n",
      "--- Fitting For Fold #1 / 5 ---\n",
      "--- Fitting For Fold #2 / 5 ---\n",
      "--- Fitting For Fold #3 / 5 ---\n",
      "--- Fitting For Fold #4 / 5 ---\n",
      "--- Fitting For Fold #5 / 5 ---\n",
      "Fitting For Base Model #2 / 4 ---\n",
      "--- Fitting For Fold #1 / 5 ---\n",
      "--- Fitting For Fold #2 / 5 ---\n",
      "--- Fitting For Fold #3 / 5 ---\n",
      "--- Fitting For Fold #4 / 5 ---\n",
      "--- Fitting For Fold #5 / 5 ---\n",
      "Fitting For Base Model #3 / 4 ---\n",
      "--- Fitting For Fold #1 / 5 ---\n",
      "--- Fitting For Fold #2 / 5 ---\n",
      "--- Fitting For Fold #3 / 5 ---\n",
      "--- Fitting For Fold #4 / 5 ---\n",
      "--- Fitting For Fold #5 / 5 ---\n",
      "Fitting For Base Model #4 / 4 ---\n",
      "--- Fitting For Fold #1 / 5 ---\n",
      "--- Fitting For Fold #2 / 5 ---\n",
      "--- Fitting For Fold #3 / 5 ---\n",
      "--- Fitting For Fold #4 / 5 ---\n",
      "--- Fitting For Fold #5 / 5 ---\n"
     ]
    },
    {
     "name": "stderr",
     "output_type": "stream",
     "text": [
      "C:\\Users\\Ming\\Anaconda3\\lib\\site-packages\\sklearn\\preprocessing\\label.py:151: DeprecationWarning: The truth value of an empty array is ambiguous. Returning False, but in future this will result in an error. Use `array.size > 0` to check that an array is not empty.\n",
      "  if diff:\n"
     ]
    },
    {
     "name": "stdout",
     "output_type": "stream",
     "text": [
      "Fitting For Base Model #1 / 4 ---\n",
      "--- Fitting For Fold #1 / 5 ---\n",
      "--- Fitting For Fold #2 / 5 ---\n",
      "--- Fitting For Fold #3 / 5 ---\n",
      "--- Fitting For Fold #4 / 5 ---\n",
      "--- Fitting For Fold #5 / 5 ---\n",
      "Fitting For Base Model #2 / 4 ---\n",
      "--- Fitting For Fold #1 / 5 ---\n",
      "--- Fitting For Fold #2 / 5 ---\n",
      "--- Fitting For Fold #3 / 5 ---\n",
      "--- Fitting For Fold #4 / 5 ---\n",
      "--- Fitting For Fold #5 / 5 ---\n",
      "Fitting For Base Model #3 / 4 ---\n",
      "--- Fitting For Fold #1 / 5 ---\n",
      "--- Fitting For Fold #2 / 5 ---\n",
      "--- Fitting For Fold #3 / 5 ---\n",
      "--- Fitting For Fold #4 / 5 ---\n",
      "--- Fitting For Fold #5 / 5 ---\n",
      "Fitting For Base Model #4 / 4 ---\n",
      "--- Fitting For Fold #1 / 5 ---\n",
      "--- Fitting For Fold #2 / 5 ---\n",
      "--- Fitting For Fold #3 / 5 ---\n",
      "--- Fitting For Fold #4 / 5 ---\n",
      "--- Fitting For Fold #5 / 5 ---\n"
     ]
    },
    {
     "name": "stderr",
     "output_type": "stream",
     "text": [
      "C:\\Users\\Ming\\Anaconda3\\lib\\site-packages\\sklearn\\preprocessing\\label.py:151: DeprecationWarning: The truth value of an empty array is ambiguous. Returning False, but in future this will result in an error. Use `array.size > 0` to check that an array is not empty.\n",
      "  if diff:\n"
     ]
    },
    {
     "name": "stdout",
     "output_type": "stream",
     "text": [
      "Fitting For Base Model #1 / 4 ---\n",
      "--- Fitting For Fold #1 / 5 ---\n",
      "--- Fitting For Fold #2 / 5 ---\n",
      "--- Fitting For Fold #3 / 5 ---\n",
      "--- Fitting For Fold #4 / 5 ---\n",
      "--- Fitting For Fold #5 / 5 ---\n",
      "Fitting For Base Model #2 / 4 ---\n",
      "--- Fitting For Fold #1 / 5 ---\n",
      "--- Fitting For Fold #2 / 5 ---\n",
      "--- Fitting For Fold #3 / 5 ---\n",
      "--- Fitting For Fold #4 / 5 ---\n",
      "--- Fitting For Fold #5 / 5 ---\n",
      "Fitting For Base Model #3 / 4 ---\n",
      "--- Fitting For Fold #1 / 5 ---\n",
      "--- Fitting For Fold #2 / 5 ---\n",
      "--- Fitting For Fold #3 / 5 ---\n",
      "--- Fitting For Fold #4 / 5 ---\n",
      "--- Fitting For Fold #5 / 5 ---\n",
      "Fitting For Base Model #4 / 4 ---\n",
      "--- Fitting For Fold #1 / 5 ---\n",
      "--- Fitting For Fold #2 / 5 ---\n",
      "--- Fitting For Fold #3 / 5 ---\n",
      "--- Fitting For Fold #4 / 5 ---\n",
      "--- Fitting For Fold #5 / 5 ---\n"
     ]
    },
    {
     "name": "stderr",
     "output_type": "stream",
     "text": [
      "C:\\Users\\Ming\\Anaconda3\\lib\\site-packages\\sklearn\\preprocessing\\label.py:151: DeprecationWarning: The truth value of an empty array is ambiguous. Returning False, but in future this will result in an error. Use `array.size > 0` to check that an array is not empty.\n",
      "  if diff:\n"
     ]
    },
    {
     "name": "stdout",
     "output_type": "stream",
     "text": [
      "Fitting For Base Model #1 / 4 ---\n",
      "--- Fitting For Fold #1 / 5 ---\n",
      "--- Fitting For Fold #2 / 5 ---\n",
      "--- Fitting For Fold #3 / 5 ---\n",
      "--- Fitting For Fold #4 / 5 ---\n",
      "--- Fitting For Fold #5 / 5 ---\n",
      "Fitting For Base Model #2 / 4 ---\n",
      "--- Fitting For Fold #1 / 5 ---\n",
      "--- Fitting For Fold #2 / 5 ---\n",
      "--- Fitting For Fold #3 / 5 ---\n",
      "--- Fitting For Fold #4 / 5 ---\n",
      "--- Fitting For Fold #5 / 5 ---\n",
      "Fitting For Base Model #3 / 4 ---\n",
      "--- Fitting For Fold #1 / 5 ---\n",
      "--- Fitting For Fold #2 / 5 ---\n",
      "--- Fitting For Fold #3 / 5 ---\n",
      "--- Fitting For Fold #4 / 5 ---\n",
      "--- Fitting For Fold #5 / 5 ---\n",
      "Fitting For Base Model #4 / 4 ---\n",
      "--- Fitting For Fold #1 / 5 ---\n",
      "--- Fitting For Fold #2 / 5 ---\n",
      "--- Fitting For Fold #3 / 5 ---\n",
      "--- Fitting For Fold #4 / 5 ---\n",
      "--- Fitting For Fold #5 / 5 ---\n"
     ]
    },
    {
     "name": "stderr",
     "output_type": "stream",
     "text": [
      "C:\\Users\\Ming\\Anaconda3\\lib\\site-packages\\sklearn\\preprocessing\\label.py:151: DeprecationWarning: The truth value of an empty array is ambiguous. Returning False, but in future this will result in an error. Use `array.size > 0` to check that an array is not empty.\n",
      "  if diff:\n"
     ]
    }
   ],
   "source": [
    "base_models = [\n",
    "        GradientBoostingClassifier(\n",
    "            n_estimators=100,\n",
    "            learning_rate=0.1,\n",
    "            random_state=3,\n",
    "            min_samples_split=300, \n",
    "            min_samples_leaf=40, \n",
    "            max_depth=3, \n",
    "            max_features='sqrt',\n",
    "            subsample=0.8\n",
    "        ),\n",
    "        xgb.XGBClassifier(\n",
    "            seed=27,\n",
    "            learning_rate=0.1,\n",
    "            max_depth=3,\n",
    "            min_child_weight = 1,\n",
    "            gamma =0 ,\n",
    "            subsample=0.8,\n",
    "            colsample_bytree=0.75,\n",
    "            reg_alpha = 0.01 \n",
    "        ),\n",
    "        LogisticRegression(\n",
    "        ),\n",
    "        SVC(probability=True)\n",
    "    ]\n",
    "\n",
    "\n",
    "ensemble = Ensemble(\n",
    "        5,\n",
    "        stacker=xgb.XGBClassifier(\n",
    "   ),\n",
    "        base_models=base_models\n",
    "    )\n",
    "\n",
    "Random_avg = pd.DataFrame()\n",
    "for i in range(5): \n",
    "    y_pred = ensemble.fit_predict(X=X_train_std, y=Y_train, T=X_test_std,seed =i )\n",
    "Random_avg['y_predict'+str(i)]=y_pred"
   ]
  },
  {
   "cell_type": "code",
   "execution_count": 313,
   "metadata": {},
   "outputs": [],
   "source": [
    "result=pd.DataFrame()\n",
    "result['claim_number']=test['claim_number']\n",
    "result['fraud']=y_pred.tolist()\n",
    "result.to_csv('csv_to_submit2.csv', index = False)\n",
    "\n",
    "\n",
    "#prediction=test_encoded['id'].to_frame()\n",
    "#prediction.loc[:,'cancel']=y_pred\n",
    "#prediction.to_csv('TeamWalkersPrediction_Final.csv',index = False)"
   ]
  }
 ],
 "metadata": {
  "kernelspec": {
   "display_name": "Python 3",
   "language": "python",
   "name": "python3"
  },
  "language_info": {
   "codemirror_mode": {
    "name": "ipython",
    "version": 3
   },
   "file_extension": ".py",
   "mimetype": "text/x-python",
   "name": "python",
   "nbconvert_exporter": "python",
   "pygments_lexer": "ipython3",
   "version": "3.6.5"
  }
 },
 "nbformat": 4,
 "nbformat_minor": 2
}
